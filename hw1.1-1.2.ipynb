{
 "cells": [
  {
   "cell_type": "code",
   "execution_count": 2,
   "id": "74b97c69",
   "metadata": {},
   "outputs": [],
   "source": [
    "import json\n",
    "with open('purchase_log.txt', encoding = 'utf-8', mode = 'r') as file:\n",
    "    lines = file.readlines()\n",
    "\n",
    "listik=[]\n",
    "for i, line in enumerate(lines, start=1):\n",
    "    var_name = f'line{i}' \n",
    "    locals()[var_name] = json.loads(line.strip())  \n",
    "    listik.append(locals()[var_name])\n",
    "purchases={}\n",
    "i=1\n",
    "while i<=len(lines)-1:\n",
    "    myKey=listik[i]['user_id']\n",
    "    myValue=listik[i]['category']\n",
    "    purchases[myKey]=myValue\n",
    "    i=i+1\n",
    "\n",
    "with open(\"purchases.json\",\"w\", encoding='utf-8') as jsonfile:\n",
    "        json.dump(purchases,jsonfile,ensure_ascii=False)"
   ]
  },
  {
   "cell_type": "code",
   "execution_count": 3,
   "id": "733a9447",
   "metadata": {},
   "outputs": [],
   "source": [
    "with open('funnel.csv', 'w') as file:\n",
    "    with open('visit_log.csv', 'r') as file1:\n",
    "        for i in file1:\n",
    "            for key in purchases:\n",
    "                if key in i:\n",
    "                    file.write(i.strip() + ',' + purchases[key] + '\\n')"
   ]
  }
 ],
 "metadata": {
  "kernelspec": {
   "display_name": "Python 3 (ipykernel)",
   "language": "python",
   "name": "python3"
  },
  "language_info": {
   "codemirror_mode": {
    "name": "ipython",
    "version": 3
   },
   "file_extension": ".py",
   "mimetype": "text/x-python",
   "name": "python",
   "nbconvert_exporter": "python",
   "pygments_lexer": "ipython3",
   "version": "3.11.2"
  }
 },
 "nbformat": 4,
 "nbformat_minor": 5
}
